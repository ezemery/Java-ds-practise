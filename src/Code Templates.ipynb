{
 "cells": [
  {
   "cell_type": "markdown",
   "id": "21bb76fa",
   "metadata": {},
   "source": [
    "# Code Templates"
   ]
  },
  {
   "cell_type": "markdown",
   "id": "f9e854fd",
   "metadata": {},
   "source": [
    "### Two pointers: one input, opposite ends"
   ]
  },
  {
   "cell_type": "code",
   "execution_count": 1,
   "id": "e4134063",
   "metadata": {},
   "outputs": [
    {
     "ename": "SyntaxError",
     "evalue": "invalid syntax (1659660005.py, line 1)",
     "output_type": "error",
     "traceback": [
      "\u001b[1;36m  Cell \u001b[1;32mIn[1], line 1\u001b[1;36m\u001b[0m\n\u001b[1;33m    public int fn(int[] arr) {\u001b[0m\n\u001b[1;37m           ^\u001b[0m\n\u001b[1;31mSyntaxError\u001b[0m\u001b[1;31m:\u001b[0m invalid syntax\n"
     ]
    }
   ],
   "source": [
    "public int fn(int[] arr) {\n",
    "    int left = 0;\n",
    "    int right = arr.length - 1;\n",
    "    int ans = 0;\n",
    "\n",
    "    while (left < right) {\n",
    "        // do some logic here with left and right\n",
    "        if (CONDITION) {\n",
    "            left++;\n",
    "        } else {\n",
    "            right--;\n",
    "        }\n",
    "    }\n",
    "\n",
    "    return ans;\n",
    "}"
   ]
  },
  {
   "cell_type": "markdown",
   "id": "ba01d674",
   "metadata": {},
   "source": [
    "### Two pointers: two inputs, exhaust both"
   ]
  },
  {
   "cell_type": "code",
   "execution_count": null,
   "id": "3f9d2572",
   "metadata": {},
   "outputs": [],
   "source": [
    "public int fn(int[] arr1, int[] arr2) {\n",
    "    int i = 0, j = 0, ans = 0;\n",
    "\n",
    "    while (i < arr1.length && j < arr2.length) {\n",
    "        // do some logic here\n",
    "        if (CONDITION) {\n",
    "            i++;\n",
    "        } else {\n",
    "            j++;\n",
    "        }\n",
    "    }\n",
    "\n",
    "    while (i < arr1.length) {\n",
    "        // do logic\n",
    "        i++;\n",
    "    }\n",
    "\n",
    "    while (j < arr2.length) {\n",
    "        // do logic\n",
    "        j++;\n",
    "    }\n",
    "\n",
    "    return ans;\n",
    "}"
   ]
  },
  {
   "cell_type": "markdown",
   "id": "b4e66029",
   "metadata": {},
   "source": [
    "### Sliding window"
   ]
  },
  {
   "cell_type": "code",
   "execution_count": null,
   "id": "010e3b17",
   "metadata": {},
   "outputs": [],
   "source": [
    "public int fn(int[] arr) {\n",
    "    int left = 0, ans = 0, curr = 0;\n",
    "\n",
    "    for (int right = 0; right < arr.length; right++) {\n",
    "        // do logic here to add arr[right] to curr\n",
    "\n",
    "        while (WINDOW_CONDITION_BROKEN) {\n",
    "            // remove arr[left] from curr\n",
    "            left++;\n",
    "        }\n",
    "\n",
    "        // update ans\n",
    "    }\n",
    "\n",
    "    return ans;\n",
    "}"
   ]
  },
  {
   "cell_type": "markdown",
   "id": "442e58c6",
   "metadata": {},
   "source": [
    "### Build a prefix sum"
   ]
  },
  {
   "cell_type": "code",
   "execution_count": null,
   "id": "2f02d735",
   "metadata": {},
   "outputs": [],
   "source": [
    "public int[] fn(int[] arr) {\n",
    "    int[] prefix = new int[arr.length];\n",
    "    prefix[0] = arr[0];\n",
    "\n",
    "    for (int i = 1; i < arr.length; i++) {\n",
    "        prefix[i] = prefix[i - 1] + arr[i];\n",
    "    }\n",
    "\n",
    "    return prefix;\n",
    "}"
   ]
  },
  {
   "cell_type": "markdown",
   "id": "96e17f56",
   "metadata": {},
   "source": [
    "### Efficient string building"
   ]
  },
  {
   "cell_type": "code",
   "execution_count": null,
   "id": "7488e86d",
   "metadata": {},
   "outputs": [],
   "source": [
    "public String fn(char[] arr) {\n",
    "    StringBuilder sb = new StringBuilder();\n",
    "    for (char c: arr) {\n",
    "        sb.append(c);\n",
    "    }\n",
    "\n",
    "    return sb.toString();\n",
    "}"
   ]
  },
  {
   "cell_type": "markdown",
   "id": "49829e9e",
   "metadata": {},
   "source": [
    "### Linked list: fast and slow pointer"
   ]
  },
  {
   "cell_type": "code",
   "execution_count": null,
   "id": "f8e2ad61",
   "metadata": {},
   "outputs": [],
   "source": [
    "public int fn(ListNode head) {\n",
    "    ListNode slow = head;\n",
    "    ListNode fast = head;\n",
    "    int ans = 0;\n",
    "\n",
    "    while (fast != null && fast.next != null) {\n",
    "        // do logic\n",
    "        slow = slow.next;\n",
    "        fast = fast.next.next;\n",
    "    }\n",
    "\n",
    "    return ans;\n",
    "}"
   ]
  },
  {
   "cell_type": "markdown",
   "id": "2afb6022",
   "metadata": {},
   "source": [
    "### Reversing a linked list"
   ]
  },
  {
   "cell_type": "code",
   "execution_count": null,
   "id": "7721766f",
   "metadata": {},
   "outputs": [],
   "source": [
    "public ListNode fn(ListNode head) {\n",
    "    ListNode curr = head;\n",
    "    ListNode prev = null;\n",
    "    while (curr != null) {\n",
    "        ListNode nextNode = curr.next;\n",
    "        curr.next = prev;\n",
    "        prev = curr;\n",
    "        curr = nextNode;\n",
    "    }\n",
    "\n",
    "    return prev;\n",
    "}"
   ]
  },
  {
   "cell_type": "markdown",
   "id": "747ef6c1",
   "metadata": {},
   "source": [
    "### Find number of subarrays that fit an exact criteria"
   ]
  },
  {
   "cell_type": "code",
   "execution_count": null,
   "id": "228ea672",
   "metadata": {},
   "outputs": [],
   "source": [
    "public int fn(int[] arr, int k) {\n",
    "    Map<Integer, Integer> counts = new HashMap<>();\n",
    "    counts.put(0, 1);\n",
    "    int ans = 0, curr = 0;\n",
    "\n",
    "    for (int num: arr) {\n",
    "        // do logic to change curr\n",
    "        ans += counts.getOrDefault(curr - k, 0);\n",
    "        counts.put(curr, counts.getOrDefault(curr, 0) + 1);\n",
    "    }\n",
    "\n",
    "    return ans;\n",
    "}"
   ]
  },
  {
   "cell_type": "markdown",
   "id": "01f8dc70",
   "metadata": {},
   "source": [
    "### Monotonic increasing stack"
   ]
  },
  {
   "cell_type": "code",
   "execution_count": null,
   "id": "13086f16",
   "metadata": {},
   "outputs": [],
   "source": [
    "public int fn(int[] arr) {\n",
    "    Stack<Integer> stack = new Stack<>();\n",
    "    int ans = 0;\n",
    "\n",
    "    for (int num: arr) {\n",
    "        // for monotonic decreasing, just flip the > to <\n",
    "        while (!stack.empty() && stack.peek() > num) {\n",
    "            // do logic\n",
    "            stack.pop();\n",
    "        }\n",
    "\n",
    "        stack.push(num);\n",
    "    }\n",
    "\n",
    "    return ans;\n",
    "}"
   ]
  },
  {
   "cell_type": "markdown",
   "id": "f313d53d",
   "metadata": {},
   "source": [
    "### Binary tree: DFS (recursive)"
   ]
  },
  {
   "cell_type": "code",
   "execution_count": null,
   "id": "dc84f113",
   "metadata": {},
   "outputs": [],
   "source": [
    "public int dfs(TreeNode root) {\n",
    "    if (root == null) {\n",
    "        return 0;\n",
    "    }\n",
    "\n",
    "    int ans = 0;\n",
    "    // do logic\n",
    "    dfs(root.left);\n",
    "    dfs(root.right);\n",
    "    return ans;\n",
    "}"
   ]
  },
  {
   "cell_type": "markdown",
   "id": "e425e3f3",
   "metadata": {},
   "source": [
    "### Binary tree: DFS (iterative)"
   ]
  },
  {
   "cell_type": "code",
   "execution_count": null,
   "id": "c7844d67",
   "metadata": {},
   "outputs": [],
   "source": [
    "public int dfs(TreeNode root) {\n",
    "    Stack<TreeNode> stack = new Stack<>();\n",
    "    stack.push(root);\n",
    "    int ans = 0;\n",
    "\n",
    "    while (!stack.empty()) {\n",
    "        TreeNode node = stack.pop();\n",
    "        // do logic\n",
    "        if (node.left != null) {\n",
    "            stack.push(node.left);\n",
    "        }\n",
    "        if (node.right != null) {\n",
    "            stack.push(node.right);\n",
    "        }\n",
    "    }\n",
    "\n",
    "    return ans;\n",
    "}"
   ]
  },
  {
   "cell_type": "markdown",
   "id": "d5568be5",
   "metadata": {},
   "source": [
    "### Binary tree: BFS"
   ]
  },
  {
   "cell_type": "code",
   "execution_count": null,
   "id": "dc67d768",
   "metadata": {},
   "outputs": [],
   "source": [
    "public int fn(TreeNode root) {\n",
    "    Queue<TreeNode> queue = new LinkedList<>();\n",
    "    queue.add(root);\n",
    "    int ans = 0;\n",
    "\n",
    "    while (!queue.isEmpty()) {\n",
    "        int currentLength = queue.size();\n",
    "        // do logic for current level\n",
    "\n",
    "        for (int i = 0; i < currentLength; i++) {\n",
    "            TreeNode node = queue.remove();\n",
    "            // do logic\n",
    "            if (node.left != null) {\n",
    "                queue.add(node.left);\n",
    "            }\n",
    "            if (node.right != null) {\n",
    "                queue.add(node.right);\n",
    "            }\n",
    "        }\n",
    "    }\n",
    "\n",
    "    return ans;\n",
    "}"
   ]
  },
  {
   "cell_type": "markdown",
   "id": "f27a5d60",
   "metadata": {},
   "source": [
    "### Graph: DFS (recursive)\n",
    "\n",
    "For the graph templates, assume the nodes are numbered from 0 to n - 1 and the graph is given as an adjacency list. Depending on the problem, you may need to convert the input into an equivalent adjacency list before using the templates."
   ]
  },
  {
   "cell_type": "code",
   "execution_count": null,
   "id": "ce224040",
   "metadata": {},
   "outputs": [],
   "source": [
    "Set<Integer> seen = new HashSet<>();\n",
    "\n",
    "public int fn(int[][] graph) {\n",
    "    seen.add(START_NODE);\n",
    "    return dfs(START_NODE, graph);\n",
    "}\n",
    "\n",
    "public int dfs(int node, int[][] graph) {\n",
    "    int ans = 0;\n",
    "    // do some logic\n",
    "    for (int neighbor: graph[node]) {\n",
    "        if (!seen.contains(neighbor)) {\n",
    "            seen.add(neighbor);\n",
    "            ans += dfs(neighbor, graph);\n",
    "        }\n",
    "    }\n",
    "\n",
    "    return ans;\n",
    "}"
   ]
  },
  {
   "cell_type": "markdown",
   "id": "b2fb2c14",
   "metadata": {},
   "source": [
    "### Graph: DFS (iterative) "
   ]
  },
  {
   "cell_type": "code",
   "execution_count": null,
   "id": "afc848b2",
   "metadata": {},
   "outputs": [],
   "source": [
    "public int fn(int[][] graph) {\n",
    "    Stack<Integer> stack = new Stack<>();\n",
    "    Set<Integer> seen = new HashSet<>();\n",
    "    stack.push(START_NODE);\n",
    "    seen.add(START_NODE);\n",
    "    int ans = 0;\n",
    "\n",
    "    while (!stack.empty()) {\n",
    "        int node = stack.pop();\n",
    "        // do some logic\n",
    "        for (int neighbor: graph[node]) {\n",
    "            if (!seen.contains(neighbor)) {\n",
    "                seen.add(neighbor);\n",
    "                stack.push(neighbor);\n",
    "            }\n",
    "        }\n",
    "    }\n",
    "\n",
    "    return ans;\n",
    "}"
   ]
  },
  {
   "cell_type": "markdown",
   "id": "a661e992",
   "metadata": {},
   "source": [
    "### Graph: BFS"
   ]
  },
  {
   "cell_type": "code",
   "execution_count": null,
   "id": "a522ad61",
   "metadata": {},
   "outputs": [],
   "source": [
    "public int fn(int[][] graph) {\n",
    "    Queue<Integer> queue = new LinkedList<>();\n",
    "    Set<Integer> seen = new HashSet<>();\n",
    "    queue.add(START_NODE);\n",
    "    seen.add(START_NODE);\n",
    "    int ans = 0;\n",
    "\n",
    "    while (!queue.isEmpty()) {\n",
    "        int node = queue.remove();\n",
    "        // do some logic\n",
    "        for (int neighbor: graph[node]) {\n",
    "            if (!seen.contains(neighbor)) {\n",
    "                seen.add(neighbor);\n",
    "                queue.add(neighbor);\n",
    "            }\n",
    "        }\n",
    "    }\n",
    "\n",
    "    return ans;\n",
    "}"
   ]
  },
  {
   "cell_type": "markdown",
   "id": "c794cf5c",
   "metadata": {},
   "source": [
    "### Find top k elements with heap"
   ]
  },
  {
   "cell_type": "code",
   "execution_count": null,
   "id": "e1558d3a",
   "metadata": {},
   "outputs": [],
   "source": [
    "public int[] fn(int[] arr, int k) {\n",
    "    PriorityQueue<Integer> heap = new PriorityQueue<>(CRITERIA);\n",
    "    for (int num: arr) {\n",
    "        heap.add(num);\n",
    "        if (heap.size() > k) {\n",
    "            heap.remove();\n",
    "        }\n",
    "    }\n",
    "\n",
    "    int[] ans = new int[k];\n",
    "    for (int i = 0; i < k; i++) {\n",
    "        ans[i] = heap.remove();\n",
    "    }\n",
    "\n",
    "    return ans;\n",
    "}"
   ]
  },
  {
   "cell_type": "markdown",
   "id": "c772e3f2",
   "metadata": {},
   "source": [
    "### Binary search"
   ]
  },
  {
   "cell_type": "code",
   "execution_count": null,
   "id": "f2dcb7b3",
   "metadata": {},
   "outputs": [],
   "source": [
    "public int fn(int[] arr, int target) {\n",
    "    int left = 0;\n",
    "    int right = arr.length - 1;\n",
    "    while (left <= right) {\n",
    "        int mid = left + (right - left) / 2;\n",
    "        if (arr[mid] == target) {\n",
    "            // do something\n",
    "            return mid;\n",
    "        }\n",
    "        if (arr[mid] > target) {\n",
    "            right = mid - 1;\n",
    "        } else {\n",
    "            left = mid + 1;\n",
    "        }\n",
    "    }\n",
    "\n",
    "    // left is the insertion point\n",
    "    return left;\n",
    "}"
   ]
  },
  {
   "cell_type": "markdown",
   "id": "278c2aad",
   "metadata": {},
   "source": [
    "### Binary search: duplicate elements, left-most insertion point"
   ]
  },
  {
   "cell_type": "code",
   "execution_count": null,
   "id": "be933363",
   "metadata": {},
   "outputs": [],
   "source": [
    "public int fn(int[] arr, int target) {\n",
    "    int left = 0;\n",
    "    int right = arr.length;\n",
    "    while (left < right) {\n",
    "        int mid = left + (right - left) / 2;\n",
    "        if (arr[mid] >= target) {\n",
    "            right = mid\n",
    "        } else {\n",
    "            left = mid + 1;\n",
    "        }\n",
    "    }\n",
    "\n",
    "    return left;\n",
    "}"
   ]
  },
  {
   "cell_type": "markdown",
   "id": "f0f971ee",
   "metadata": {},
   "source": [
    "### Binary search: duplicate elements, right-most insertion point"
   ]
  },
  {
   "cell_type": "code",
   "execution_count": null,
   "id": "480d1731",
   "metadata": {},
   "outputs": [],
   "source": [
    "public int fn(int[] arr, int target) {\n",
    "    int left = 0;\n",
    "    int right = arr.length;\n",
    "    while (left < right) {\n",
    "        int mid = left + (right - left) / 2;\n",
    "        if (arr[mid] > target) {\n",
    "            right = mid;\n",
    "        } else {\n",
    "            left = mid + 1;\n",
    "        }\n",
    "    }\n",
    "\n",
    "    return left;\n",
    "}"
   ]
  },
  {
   "cell_type": "markdown",
   "id": "5b34320b",
   "metadata": {},
   "source": [
    "### Binary search: for greedy problems\n",
    "\n",
    "If looking for a minimum:"
   ]
  },
  {
   "cell_type": "code",
   "execution_count": null,
   "id": "f642c771",
   "metadata": {},
   "outputs": [],
   "source": [
    "public int fn(int[] arr) {\n",
    "    int left = MINIMUM_POSSIBLE_ANSWER;\n",
    "    int right = MAXIMUM_POSSIBLE_ANSWER;\n",
    "    while (left <= right) {\n",
    "        int mid = left + (right - left) / 2;\n",
    "        if (check(mid)) {\n",
    "            right = mid - 1;\n",
    "        } else {\n",
    "            left = mid + 1;\n",
    "        }\n",
    "    }\n",
    "\n",
    "    return left;\n",
    "}\n",
    "\n",
    "public boolean check(int x) {\n",
    "    // this function is implemented depending on the problem\n",
    "    return BOOLEAN;\n",
    "}"
   ]
  },
  {
   "cell_type": "markdown",
   "id": "76bd39d1",
   "metadata": {},
   "source": [
    "If looking for a maximum:"
   ]
  },
  {
   "cell_type": "code",
   "execution_count": null,
   "id": "2507b8c4",
   "metadata": {},
   "outputs": [],
   "source": [
    "public int fn(int[] arr) {\n",
    "    int left = MINIMUM_POSSIBLE_ANSWER;\n",
    "    int right = MAXIMUM_POSSIBLE_ANSWER;\n",
    "    while (left <= right) {\n",
    "        int mid = left + (right - left) / 2;\n",
    "        if (check(mid)) {\n",
    "            left = mid + 1;\n",
    "        } else {\n",
    "            right = mid - 1;\n",
    "        }\n",
    "    }\n",
    "\n",
    "    return right;\n",
    "}\n",
    "\n",
    "public boolean check(int x) {\n",
    "    // this function is implemented depending on the problem\n",
    "    return BOOLEAN;\n",
    "}"
   ]
  },
  {
   "cell_type": "markdown",
   "id": "bd3dc06a",
   "metadata": {},
   "source": [
    "### Backtracking"
   ]
  },
  {
   "cell_type": "code",
   "execution_count": null,
   "id": "09e3faf2",
   "metadata": {},
   "outputs": [],
   "source": [
    "public int backtrack(STATE curr, OTHER_ARGUMENTS...) {\n",
    "    if (BASE_CASE) {\n",
    "        // modify the answer\n",
    "        return 0;\n",
    "    }\n",
    "\n",
    "    int ans = 0;\n",
    "    for (ITERATE_OVER_INPUT) {\n",
    "        // modify the current state\n",
    "        ans += backtrack(curr, OTHER_ARGUMENTS...)\n",
    "        // undo the modification of the current state\n",
    "    }\n",
    "}"
   ]
  },
  {
   "cell_type": "markdown",
   "id": "bfbaf9ea",
   "metadata": {},
   "source": [
    "### Dynamic programming: top-down memoization"
   ]
  },
  {
   "cell_type": "code",
   "execution_count": null,
   "id": "d8386d55",
   "metadata": {},
   "outputs": [],
   "source": [
    "Map<STATE, Integer> memo = new HashMap<>();\n",
    "\n",
    "public int fn(int[] arr) {\n",
    "    return dp(STATE_FOR_WHOLE_INPUT, arr);\n",
    "}\n",
    "\n",
    "public int dp(STATE, int[] arr) {\n",
    "    if (BASE_CASE) {\n",
    "        return 0;\n",
    "    }\n",
    "\n",
    "    if (memo.contains(STATE)) {\n",
    "        return memo.get(STATE);\n",
    "    }\n",
    "\n",
    "    int ans = RECURRENCE_RELATION(STATE);\n",
    "    memo.put(STATE, ans);\n",
    "    return ans;\n",
    "}"
   ]
  },
  {
   "cell_type": "markdown",
   "id": "c6a624bd",
   "metadata": {},
   "source": [
    "### Build a trie"
   ]
  },
  {
   "cell_type": "code",
   "execution_count": null,
   "id": "0d602792",
   "metadata": {},
   "outputs": [],
   "source": [
    "// note: using a class is only necessary if you want to store data at each node.\n",
    "// otherwise, you can implement a trie using only hash maps.\n",
    "class TrieNode {\n",
    "    // you can store data at nodes if you wish\n",
    "    int data;\n",
    "    Map<Character, TrieNode> children;\n",
    "    TrieNode() {\n",
    "        this.children = new HashMap<>();\n",
    "    }\n",
    "}\n",
    "\n",
    "public TrieNode buildTrie(String[] words) {\n",
    "    TrieNode root = new TrieNode();\n",
    "    for (String word: words) {\n",
    "        TrieNode curr = root;\n",
    "        for (char c: word.toCharArray()) {\n",
    "            if (!curr.children.containsKey(c)) {\n",
    "                curr.children.put(c, new TrieNode());\n",
    "            }\n",
    "\n",
    "            curr = curr.children.get(c);\n",
    "        }\n",
    "\n",
    "        // at this point, you have a full word at curr\n",
    "        // you can perform more logic here to give curr an attribute if you want\n",
    "    }\n",
    "\n",
    "    return root;\n",
    "}"
   ]
  },
  {
   "cell_type": "code",
   "execution_count": null,
   "id": "fd8e69de",
   "metadata": {},
   "outputs": [],
   "source": []
  }
 ],
 "metadata": {
  "kernelspec": {
   "display_name": "Python 3 (ipykernel)",
   "language": "python",
   "name": "python3"
  },
  "language_info": {
   "codemirror_mode": {
    "name": "ipython",
    "version": 3
   },
   "file_extension": ".py",
   "mimetype": "text/x-python",
   "name": "python",
   "nbconvert_exporter": "python",
   "pygments_lexer": "ipython3",
   "version": "3.10.9"
  }
 },
 "nbformat": 4,
 "nbformat_minor": 5
}
